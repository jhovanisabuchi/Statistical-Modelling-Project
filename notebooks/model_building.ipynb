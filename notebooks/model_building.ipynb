{
 "cells": [
  {
   "cell_type": "markdown",
   "metadata": {},
   "source": [
    "Build a regression model."
   ]
  },
  {
   "cell_type": "code",
   "execution_count": 15,
   "metadata": {},
   "outputs": [],
   "source": [
    "import pandas as pd\n",
    "from sklearn.model_selection import train_test_split\n",
    "from sklearn.linear_model import LinearRegression\n",
    "\n"
   ]
  },
  {
   "cell_type": "code",
   "execution_count": 4,
   "metadata": {},
   "outputs": [],
   "source": [
    "yelp_df = pd.read_csv(r\"C:\\Users\\johnk\\OneDrive\\Desktop\\Statistical-Modelling-Project\\Statistical-Modelling-Project\\notebooks\\yelp_data.csv\")\n",
    "salvador_station_df = pd.read_csv(r\"C:\\Users\\johnk\\OneDrive\\Desktop\\Statistical-Modelling-Project\\Statistical-Modelling-Project\\notebooks\\salvador_station.csv\")"
   ]
  },
  {
   "cell_type": "code",
   "execution_count": 7,
   "metadata": {},
   "outputs": [
    {
     "name": "stdout",
     "output_type": "stream",
     "text": [
      "                     Station Name  Latitude_x  Longitude_x  Free Bikes  \\\n",
      "0  27 - Praça Ana Lúcia Magalhães  -12.993338   -38.460908           3   \n",
      "1  27 - Praça Ana Lúcia Magalhães  -12.993338   -38.460908           3   \n",
      "2  27 - Praça Ana Lúcia Magalhães  -12.993338   -38.460908           3   \n",
      "3  27 - Praça Ana Lúcia Magalhães  -12.993338   -38.460908           3   \n",
      "4  27 - Praça Ana Lúcia Magalhães  -12.993338   -38.460908           3   \n",
      "\n",
      "   Empty Slots  Latitude_y  Longitude_y  Search Term            Business Name  \\\n",
      "0            8  -12.993338   -38.460908  Restaurants            Mamma's House   \n",
      "1            8  -12.993338   -38.460908  Restaurants               Acqua Café   \n",
      "2            8  -12.993338   -38.460908  Restaurants   Riz Bistrot & Risottos   \n",
      "3            8  -12.993338   -38.460908  Restaurants                  Vignoli   \n",
      "4            8  -12.993338   -38.460908  Restaurants  Adam Cozinha Originária   \n",
      "\n",
      "  Business Category  Business Rating                      Business Address  \\\n",
      "0       Restaurants              4.9                 R. das Margaridas,150   \n",
      "1       Restaurants              4.3       R. das Hortências, 600 - Pituba   \n",
      "2       Restaurants              3.9                R. das Hortênsias, 966   \n",
      "3       Restaurants              4.4                    Av. Paulo VI, 1659   \n",
      "4       Restaurants              4.6  R. Edith Mendes da Gama e Abreu, 189   \n",
      "\n",
      "   Business Phone  Business Distance (meters)  \n",
      "0    5.571335e+11                  527.483624  \n",
      "1    5.571336e+11                   47.248643  \n",
      "2    5.571302e+11                  328.793942  \n",
      "3    5.571302e+11                  490.866547  \n",
      "4    5.571351e+11                  208.535935  \n"
     ]
    },
    {
     "data": {
      "text/html": [
       "<div>\n",
       "<style scoped>\n",
       "    .dataframe tbody tr th:only-of-type {\n",
       "        vertical-align: middle;\n",
       "    }\n",
       "\n",
       "    .dataframe tbody tr th {\n",
       "        vertical-align: top;\n",
       "    }\n",
       "\n",
       "    .dataframe thead th {\n",
       "        text-align: right;\n",
       "    }\n",
       "</style>\n",
       "<table border=\"1\" class=\"dataframe\">\n",
       "  <thead>\n",
       "    <tr style=\"text-align: right;\">\n",
       "      <th></th>\n",
       "      <th>Station Name</th>\n",
       "      <th>Latitude_x</th>\n",
       "      <th>Longitude_x</th>\n",
       "      <th>Free Bikes</th>\n",
       "      <th>Empty Slots</th>\n",
       "      <th>Search Term</th>\n",
       "      <th>Business Name</th>\n",
       "      <th>Business Category</th>\n",
       "      <th>Business Rating</th>\n",
       "      <th>Business Address</th>\n",
       "      <th>Business Phone</th>\n",
       "      <th>Business Distance (meters)</th>\n",
       "    </tr>\n",
       "  </thead>\n",
       "  <tbody>\n",
       "    <tr>\n",
       "      <th>0</th>\n",
       "      <td>27 - Praça Ana Lúcia Magalhães</td>\n",
       "      <td>-12.993338</td>\n",
       "      <td>-38.460908</td>\n",
       "      <td>3</td>\n",
       "      <td>8</td>\n",
       "      <td>Restaurants</td>\n",
       "      <td>Mamma's House</td>\n",
       "      <td>Restaurants</td>\n",
       "      <td>4.9</td>\n",
       "      <td>R. das Margaridas,150</td>\n",
       "      <td>5.571335e+11</td>\n",
       "      <td>527.483624</td>\n",
       "    </tr>\n",
       "    <tr>\n",
       "      <th>1</th>\n",
       "      <td>27 - Praça Ana Lúcia Magalhães</td>\n",
       "      <td>-12.993338</td>\n",
       "      <td>-38.460908</td>\n",
       "      <td>3</td>\n",
       "      <td>8</td>\n",
       "      <td>Restaurants</td>\n",
       "      <td>Acqua Café</td>\n",
       "      <td>Restaurants</td>\n",
       "      <td>4.3</td>\n",
       "      <td>R. das Hortências, 600 - Pituba</td>\n",
       "      <td>5.571336e+11</td>\n",
       "      <td>47.248643</td>\n",
       "    </tr>\n",
       "    <tr>\n",
       "      <th>2</th>\n",
       "      <td>27 - Praça Ana Lúcia Magalhães</td>\n",
       "      <td>-12.993338</td>\n",
       "      <td>-38.460908</td>\n",
       "      <td>3</td>\n",
       "      <td>8</td>\n",
       "      <td>Restaurants</td>\n",
       "      <td>Riz Bistrot &amp; Risottos</td>\n",
       "      <td>Restaurants</td>\n",
       "      <td>3.9</td>\n",
       "      <td>R. das Hortênsias, 966</td>\n",
       "      <td>5.571302e+11</td>\n",
       "      <td>328.793942</td>\n",
       "    </tr>\n",
       "    <tr>\n",
       "      <th>3</th>\n",
       "      <td>27 - Praça Ana Lúcia Magalhães</td>\n",
       "      <td>-12.993338</td>\n",
       "      <td>-38.460908</td>\n",
       "      <td>3</td>\n",
       "      <td>8</td>\n",
       "      <td>Restaurants</td>\n",
       "      <td>Vignoli</td>\n",
       "      <td>Restaurants</td>\n",
       "      <td>4.4</td>\n",
       "      <td>Av. Paulo VI, 1659</td>\n",
       "      <td>5.571302e+11</td>\n",
       "      <td>490.866547</td>\n",
       "    </tr>\n",
       "    <tr>\n",
       "      <th>4</th>\n",
       "      <td>27 - Praça Ana Lúcia Magalhães</td>\n",
       "      <td>-12.993338</td>\n",
       "      <td>-38.460908</td>\n",
       "      <td>3</td>\n",
       "      <td>8</td>\n",
       "      <td>Restaurants</td>\n",
       "      <td>Adam Cozinha Originária</td>\n",
       "      <td>Restaurants</td>\n",
       "      <td>4.6</td>\n",
       "      <td>R. Edith Mendes da Gama e Abreu, 189</td>\n",
       "      <td>5.571351e+11</td>\n",
       "      <td>208.535935</td>\n",
       "    </tr>\n",
       "  </tbody>\n",
       "</table>\n",
       "</div>"
      ],
      "text/plain": [
       "                     Station Name  Latitude_x  Longitude_x  Free Bikes  \\\n",
       "0  27 - Praça Ana Lúcia Magalhães  -12.993338   -38.460908           3   \n",
       "1  27 - Praça Ana Lúcia Magalhães  -12.993338   -38.460908           3   \n",
       "2  27 - Praça Ana Lúcia Magalhães  -12.993338   -38.460908           3   \n",
       "3  27 - Praça Ana Lúcia Magalhães  -12.993338   -38.460908           3   \n",
       "4  27 - Praça Ana Lúcia Magalhães  -12.993338   -38.460908           3   \n",
       "\n",
       "   Empty Slots  Search Term            Business Name Business Category  \\\n",
       "0            8  Restaurants            Mamma's House       Restaurants   \n",
       "1            8  Restaurants               Acqua Café       Restaurants   \n",
       "2            8  Restaurants   Riz Bistrot & Risottos       Restaurants   \n",
       "3            8  Restaurants                  Vignoli       Restaurants   \n",
       "4            8  Restaurants  Adam Cozinha Originária       Restaurants   \n",
       "\n",
       "   Business Rating                      Business Address  Business Phone  \\\n",
       "0              4.9                 R. das Margaridas,150    5.571335e+11   \n",
       "1              4.3       R. das Hortências, 600 - Pituba    5.571336e+11   \n",
       "2              3.9                R. das Hortênsias, 966    5.571302e+11   \n",
       "3              4.4                    Av. Paulo VI, 1659    5.571302e+11   \n",
       "4              4.6  R. Edith Mendes da Gama e Abreu, 189    5.571351e+11   \n",
       "\n",
       "   Business Distance (meters)  \n",
       "0                  527.483624  \n",
       "1                   47.248643  \n",
       "2                  328.793942  \n",
       "3                  490.866547  \n",
       "4                  208.535935  "
      ]
     },
     "execution_count": 7,
     "metadata": {},
     "output_type": "execute_result"
    }
   ],
   "source": [
    "# Merge the datasets on 'station name'\n",
    "\n",
    "merged_df = pd.merge(salvador_station_df, yelp_df, on='Station Name', how='left')\n",
    "\n",
    "merged_result = merged_df.drop(columns=['Latitude_y', 'Longitude_y'])  # Retain lon_x and lat_x\n",
    "merged_result.head()\n"
   ]
  },
  {
   "cell_type": "code",
   "execution_count": 12,
   "metadata": {},
   "outputs": [
    {
     "name": "stdout",
     "output_type": "stream",
     "text": [
      "Missing values in the features:\n",
      "Empty Slots                   0\n",
      "Free Bikes                    0\n",
      "Business Distance (meters)    0\n",
      "dtype: int64\n",
      "Missing values in the target:\n",
      "0\n",
      "Data types of features and target:\n",
      "Empty Slots                     int64\n",
      "Free Bikes                      int64\n",
      "Business Distance (meters)    float64\n",
      "dtype: object\n",
      "float64\n"
     ]
    }
   ],
   "source": [
    "# Select relevant columns for the regression model\n",
    "# Assuming 'empty slots', 'free bikes', 'business distance', and 'business rating' are present in the merged dataset\n",
    "X = merged_result[['Empty Slots', 'Free Bikes', 'Business Distance (meters)']]  # Independent variables\n",
    "y = merged_result['Business Rating']  # Dependent variable (target)\n",
    "\n",
    "# Check for missing values\n",
    "print(\"Missing values in the features:\")\n",
    "print(X.isnull().sum())\n",
    "\n",
    "print(\"Missing values in the target:\")\n",
    "print(y.isnull().sum())\n",
    "\n",
    "# Handle missing values (we can drop rows with missing target or fill missing features)\n",
    "merged_df.dropna(subset=['Business Rating'], inplace=True)  # Drop rows with missing target\n",
    "X = merged_result[['Empty Slots', 'Free Bikes', 'Business Distance (meters)']]  # Re-select features after drop\n",
    "y = merged_result['Business Rating']\n",
    "\n",
    "# Check data types to make sure they're numerical\n",
    "print(\"Data types of features and target:\")\n",
    "print(X.dtypes)\n",
    "print(y.dtypes)\n"
   ]
  },
  {
   "cell_type": "code",
   "execution_count": 18,
   "metadata": {},
   "outputs": [
    {
     "name": "stdout",
     "output_type": "stream",
     "text": [
      "Training data size: 5146\n",
      "Testing data size: 1287\n",
      "Mean Squared Error: 2.973504895022952\n",
      "R-squared: 0.016010201191304252\n"
     ]
    }
   ],
   "source": [
    "# Split the data into training and testing sets (80% for training, 20% for testing)\n",
    "X_train, X_test, y_train, y_test = train_test_split(X, y, test_size=0.2, random_state=42)\n",
    "\n",
    "# Check the split data sizes\n",
    "print(f\"Training data size: {X_train.shape[0]}\")\n",
    "print(f\"Testing data size: {X_test.shape[0]}\")\n",
    "\n",
    "# Create a Linear Regression model\n",
    "model = LinearRegression()\n",
    "\n",
    "# Train the model on the training data\n",
    "model.fit(X_train, y_train)\n",
    "\n",
    "# Make predictions on the test data\n",
    "y_pred = model.predict(X_test)\n",
    "\n",
    "# Evaluate the model using R-squared and Mean Squared Error (MSE)\n",
    "from sklearn.metrics import mean_squared_error, r2_score\n",
    "\n",
    "mse = mean_squared_error(y_test, y_pred)\n",
    "r2 = r2_score(y_test, y_pred)\n",
    "\n",
    "# Print the evaluation metrics\n",
    "print(f\"Mean Squared Error: {mse}\")\n",
    "print(f\"R-squared: {r2}\")\n",
    "\n"
   ]
  },
  {
   "cell_type": "markdown",
   "metadata": {},
   "source": [
    "Provide model output and an interpretation of the results. "
   ]
  },
  {
   "cell_type": "markdown",
   "metadata": {},
   "source": [
    "1, Training data size : 5146\n",
    "  * this is the number of samples used to train the regression model.\n",
    "\n",
    "2, Testing data size : 1287\n",
    "  * this is the nu,ber of samples used to evaluate the performance of the model."
   ]
  },
  {
   "cell_type": "markdown",
   "metadata": {},
   "source": [
    "* Interpretation of the results\n",
    "\n",
    "1, R-SQUARED: (0.0160)\n",
    " * only 1.6% of the variance in business rating can be explained by the features included in the model.\n",
    "\n",
    "2, Model acuracy (MSE 0f 2.97):\n",
    " * While the MSE gives a sense of how far the prediction are , the low r_squared suggests that these predictions are nor=t very reliable."
   ]
  },
  {
   "cell_type": "markdown",
   "metadata": {},
   "source": [
    "# Stretch"
   ]
  },
  {
   "cell_type": "markdown",
   "metadata": {},
   "source": [
    "How can you turn the regression model into a classification model?"
   ]
  },
  {
   "cell_type": "code",
   "execution_count": null,
   "metadata": {},
   "outputs": [],
   "source": []
  }
 ],
 "metadata": {
  "kernelspec": {
   "display_name": "base",
   "language": "python",
   "name": "python3"
  },
  "language_info": {
   "codemirror_mode": {
    "name": "ipython",
    "version": 3
   },
   "file_extension": ".py",
   "mimetype": "text/x-python",
   "name": "python",
   "nbconvert_exporter": "python",
   "pygments_lexer": "ipython3",
   "version": "3.12.7"
  }
 },
 "nbformat": 4,
 "nbformat_minor": 4
}
