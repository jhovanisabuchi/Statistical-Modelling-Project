{
 "cells": [
  {
   "cell_type": "code",
   "execution_count": 5,
   "metadata": {},
   "outputs": [
    {
     "ename": "ModuleNotFoundError",
     "evalue": "No module named 'requests'",
     "output_type": "error",
     "traceback": [
      "\u001b[1;31m---------------------------------------------------------------------------\u001b[0m",
      "\u001b[1;31mModuleNotFoundError\u001b[0m                       Traceback (most recent call last)",
      "Cell \u001b[1;32mIn[5], line 3\u001b[0m\n\u001b[0;32m      1\u001b[0m \u001b[38;5;66;03m# imports\u001b[39;00m\n\u001b[0;32m      2\u001b[0m \u001b[38;5;28;01mimport\u001b[39;00m \u001b[38;5;21;01mpandas\u001b[39;00m \u001b[38;5;28;01mas\u001b[39;00m \u001b[38;5;21;01mpd\u001b[39;00m\n\u001b[1;32m----> 3\u001b[0m \u001b[38;5;28;01mimport\u001b[39;00m \u001b[38;5;21;01mrequests\u001b[39;00m\n\u001b[0;32m      4\u001b[0m \u001b[38;5;28;01mimport\u001b[39;00m \u001b[38;5;21;01mos\u001b[39;00m\n\u001b[0;32m      5\u001b[0m \u001b[38;5;28;01mfrom\u001b[39;00m \u001b[38;5;21;01murllib3\u001b[39;00m\u001b[38;5;21;01m.\u001b[39;00m\u001b[38;5;21;01mexceptions\u001b[39;00m \u001b[38;5;28;01mimport\u001b[39;00m IncompleteRead\n",
      "\u001b[1;31mModuleNotFoundError\u001b[0m: No module named 'requests'"
     ]
    }
   ],
   "source": [
    "# imports\n",
    "import pandas as pd\n",
    "import requests\n",
    "import os\n",
    "from urllib3.exceptions import IncompleteRead\n"
   ]
  },
  {
   "cell_type": "markdown",
   "metadata": {},
   "source": [
    "# Foursquare"
   ]
  },
  {
   "cell_type": "markdown",
   "metadata": {},
   "source": [
    "Send a request to Foursquare with a small radius (1000m) for all the bike stations in your city of choice. "
   ]
  },
  {
   "cell_type": "code",
   "execution_count": null,
   "metadata": {},
   "outputs": [],
   "source": [
    "salvador_station = pd.read_csv(r\"C:\\Users\\johnk\\OneDrive\\Desktop\\Statistical-Modelling-Project\\salvador_station.csv\")\n",
    "\n",
    "foursquare_url = \"https://api.foursquare.com/v3/places/search\"\n",
    "API_key =os.getenv(\"4square_api_key\")\n",
    "\n",
    "if not API_key:\n",
    "    print(\"API key not found. Please set the FOURSQUARE_API_KEY environment variable.\")\n",
    "    exit()\n",
    "headers = {\n",
    "    \"Accept\": \"application/json\",\n",
    "    \"Authorization\": API_key\n",
    "}\n",
    "\n",
    "\n",
    "business_terms = {\n",
    "    \"13003\": \"Bars\",\n",
    "    \"13065\": \"Restaurants\",\n",
    "    \"18000\": \"Sports & Recreation\"}\n",
    "\n",
    "foursquare_result = []\n",
    "\n",
    "for _, row in salvador_station.iterrows():\n",
    "    latitude = row['Latitude']\n",
    "    longitude = row['Longitude']\n",
    "    \n",
    "    for term, category_name in business_terms.items():\n",
    "        params ={\n",
    "            \"ll\": f\"{latitude},{longitude}\",\n",
    "            \"radius\": 1000,\n",
    "            \"limit\": 50,\n",
    "            \"categories\": term}\n",
    "        \n",
    "        try:\n",
    "            response = requests.get (foursquare_url,headers = headers, params = params, timeout=300)\n",
    "\n",
    "            if response.status_code == 200:\n",
    "                data = response.json()\n",
    "                venues = data.get(\"results\", [])\n",
    "                for venue in data.get(\"results\", []):\n",
    "                    foursquare_result.append({\n",
    "                        \"Station Name\": row['Station Name'],\n",
    "                        \"Venue Name\": venue.get('name', 'N/A'),\n",
    "                        \"Category\": category_name,\n",
    "                        \"Venue Latitude\": venue.get('geocodes', {}).get('main', {}).get('latitude'),\n",
    "                        \"Venue Longitude\": venue.get('geocodes', {}).get('main', {}).get('longitude'),\n",
    "                        \"fsq_id\": venue.get('fsq_id', 'N/A'),\n",
    "                        \"venue distance\": venue.get('distance')\n",
    "                        })\n",
    "            else:\n",
    "                print(f\"Error for location {latitude},{longitude}: {response.status_code}\")\n",
    "        except IncompleteRead as e:\n",
    "            print(f\"Error reading response for {latitude},{longitude}: {e}\")\n",
    "        except Exception as e:\n",
    "            print(f\"An error occurred for {latitude},{longitude}: {e}\") \n"
   ]
  },
  {
   "cell_type": "markdown",
   "metadata": {},
   "source": [
    "Parse through the response to get the POI (such as restaurants, bars, etc) details you want (ratings, name, location, etc)"
   ]
  },
  {
   "cell_type": "markdown",
   "metadata": {},
   "source": [
    "Put your parsed results into a DataFrame"
   ]
  },
  {
   "cell_type": "code",
   "execution_count": null,
   "metadata": {},
   "outputs": [],
   "source": [
    "foursquare_df = pd.DataFrame(foursquare_result)\n"
   ]
  },
  {
   "cell_type": "markdown",
   "metadata": {},
   "source": [
    "# Yelp"
   ]
  },
  {
   "cell_type": "markdown",
   "metadata": {},
   "source": [
    "Send a request to Yelp with a small radius (1000m) for all the bike stations in your city of choice. "
   ]
  },
  {
   "cell_type": "code",
   "execution_count": null,
   "metadata": {},
   "outputs": [],
   "source": [
    "salvadore_station= pd.read_csv(r\"C:\\Users\\johnk\\OneDrive\\Desktop\\Statistical-Modelling-Project\\salvador_station.csv\")\n",
    "\n",
    "\n",
    "\n",
    "\n",
    "yelp_url = \"https://api.yelp.com/v3/businesses/search\"\n",
    "# Your API Key\n",
    "api_key = os.getenv(\"yelp_api_key\")\n",
    "\n",
    "if not api_key:\n",
    "    print(\"API key not found. Please set the yelp_API_KEY environment variable.\")\n",
    "    exit()\n",
    "\n",
    "# Headers with Authorization\n",
    "headers = {\n",
    "    \"Accept\": \"application/json\",\n",
    "    \"Authorization\": f\"Bearer {api_key}\"\n",
    "}\n",
    "yelp_result= []\n",
    "business_terms = [\"Restaurants\",\"Bars\",\"Fitness & Instruction\"]\n",
    "\n",
    "\n",
    "for _, row in salvadore_station.iterrows():\n",
    "    latitude = row['Latitude']\n",
    "    longitude = row['Longitude']\n",
    "    \n",
    "    for term in business_terms:\n",
    "# Parameters for Search\n",
    "        params = {\n",
    "            \"latitude\": latitude,\n",
    "            \"longitude\": longitude,\n",
    "            \"radius\": 500,  # Radius in meters\n",
    "            \"term\": term, \n",
    "            \"limit\": 50 # Number of results to return\n",
    "}\n",
    "\n",
    "# Make the Request\n",
    "        response = requests.get(yelp_url, headers=headers, params=params)\n",
    "\n",
    "# Check the Response\n",
    "        if response.status_code == 200:\n",
    "            data = response.json()\n",
    "            for business in data.get(\"businesses\", []):\n",
    "                yelp_result.append({\n",
    "                    \"Station Name\": row['Station Name'],\n",
    "                    \"Latitude\": latitude,\n",
    "                    \"Longitude\": longitude,\n",
    "                    \"Search Term\": term,\n",
    "                    \"Business Name\": business['name'],\n",
    "                    \"Business Category\": term,  # Add term as category\n",
    "                    \"Business Rating\": business['rating'],\n",
    "                    \"Business Address\": business['location'].get('address1', 'N/A'),\n",
    "                    \"Business Phone\": business.get('phone', 'N/A'),\n",
    "                    \"Business Distance (meters)\": business.get('distance','N/A')})\n",
    "        else:\n",
    "            print(f\"Error: {response.status_code}\")\n",
    "            print(f\"Response details: {response.json()}\")\n"
   ]
  },
  {
   "cell_type": "markdown",
   "metadata": {},
   "source": [
    "Parse through the response to get the POI (such as restaurants, bars, etc) details you want (ratings, name, location, etc)"
   ]
  },
  {
   "cell_type": "markdown",
   "metadata": {},
   "source": [
    "Put your parsed results into a DataFrame"
   ]
  },
  {
   "cell_type": "markdown",
   "metadata": {},
   "source": [
    "yelp_df = pd.DataFrame(yelp_result)"
   ]
  },
  {
   "cell_type": "markdown",
   "metadata": {},
   "source": [
    "# Comparing Results"
   ]
  },
  {
   "cell_type": "markdown",
   "metadata": {},
   "source": [
    "Which API provided you with more complete data? Provide an explanation. "
   ]
  },
  {
   "cell_type": "markdown",
   "metadata": {},
   "source": []
  },
  {
   "cell_type": "markdown",
   "metadata": {},
   "source": [
    "Get the top 10 restaurants according to their rating"
   ]
  },
  {
   "cell_type": "code",
   "execution_count": null,
   "metadata": {},
   "outputs": [],
   "source": [
    "yelp_df.sort_values(by=\"Business Rating\", ascending = False).head(10)"
   ]
  }
 ],
 "metadata": {
  "kernelspec": {
   "display_name": "Python 3",
   "language": "python",
   "name": "python3"
  },
  "language_info": {
   "codemirror_mode": {
    "name": "ipython",
    "version": 3
   },
   "file_extension": ".py",
   "mimetype": "text/x-python",
   "name": "python",
   "nbconvert_exporter": "python",
   "pygments_lexer": "ipython3",
   "version": "3.12.6"
  }
 },
 "nbformat": 4,
 "nbformat_minor": 4
}
